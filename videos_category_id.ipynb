{
 "cells": [
  {
   "cell_type": "code",
   "execution_count": 1,
   "metadata": {},
   "outputs": [],
   "source": [
    "import os\n",
    "from pymongo import MongoClient\n",
    "import pandas as pd\n",
    "import json\n",
    "from googleapiclient.discovery import build"
   ]
  },
  {
   "cell_type": "markdown",
   "metadata": {},
   "source": [
    "#### Importing videos csv"
   ]
  },
  {
   "cell_type": "code",
   "execution_count": null,
   "metadata": {},
   "outputs": [],
   "source": [
    "videos_df = pd.read_csv('./csvs/modified_videos_xx.csv')     # last updated videos dataset"
   ]
  },
  {
   "cell_type": "code",
   "execution_count": null,
   "metadata": {},
   "outputs": [],
   "source": [
    "videos_df.info()"
   ]
  },
  {
   "cell_type": "markdown",
   "metadata": {},
   "source": [
    "#### Getting list of youtube_id for videos missing category_id in live dataset "
   ]
  },
  {
   "cell_type": "code",
   "execution_count": null,
   "metadata": {},
   "outputs": [],
   "source": [
    "videos_YTids_noCategoryIds_list = list(videos_df.loc[videos_df['category_id'].isna(),'youtube_id'])\n",
    "videos_YTids_noCategoryIds_list[:5]"
   ]
  },
  {
   "cell_type": "markdown",
   "metadata": {},
   "source": [
    "### YouTube API key"
   ]
  },
  {
   "cell_type": "code",
   "execution_count": null,
   "metadata": {},
   "outputs": [],
   "source": [
    "developer_key = os.environ.get('DEVELOPER_KEY')\n",
    "\n",
    "youtube = build('youtube', 'v3', developerKey=developer_key) # project-0127 Data Cleaning"
   ]
  },
  {
   "cell_type": "markdown",
   "metadata": {},
   "source": [
    "#### Fetching category id of videos"
   ]
  },
  {
   "cell_type": "code",
   "execution_count": null,
   "metadata": {},
   "outputs": [],
   "source": [
    "part_string = 'snippet'\n",
    "videos_youtube_id = videos_YTids_noCategoryIds_list"
   ]
  },
  {
   "cell_type": "code",
   "execution_count": null,
   "metadata": {},
   "outputs": [],
   "source": [
    "videos_categoryId_dict = {}\n",
    "for id in range(0,len(videos_youtube_id)):\n",
    "    print(\"id: \", id)\n",
    "    \n",
    "    try:\n",
    "        request = youtube.videos().list(\n",
    "            part=part_string,\n",
    "            id=videos_youtube_id[id],\n",
    "        )\n",
    "        response = request.execute()\n",
    "        \n",
    "        if response['items']!=[] and response['items'][0]['snippet']['categoryId'] != '':\n",
    "\n",
    "            videos_categoryId = response['items'][0]['snippet']['categoryId']\n",
    "        \n",
    "        else:\n",
    "            videos_categoryId = None\n",
    "\n",
    "    except Exception as e:\n",
    "        print(\"An exception occured\")\n",
    "        print(e)\n",
    "        videos_categoryId = None\n",
    "\n",
    "    videos_categoryId_dict[videos_youtube_id[id]] = videos_categoryId"
   ]
  },
  {
   "cell_type": "code",
   "execution_count": null,
   "metadata": {},
   "outputs": [],
   "source": [
    "category_id = open('./youtube_api/videos_category_id.txt',\"a\")\n",
    "category_id.write(json.dumps(videos_categoryId_dict))\n",
    "category_id.close()"
   ]
  },
  {
   "cell_type": "markdown",
   "metadata": {},
   "source": [
    "### Connection to MongoDB"
   ]
  },
  {
   "cell_type": "code",
   "execution_count": 3,
   "metadata": {},
   "outputs": [],
   "source": [
    "mongodb_uri = os.environ.get('MONGODB_URI')\n",
    "database_name = os.environ.get('DATABASE_NAME')\n",
    "\n",
    "client = MongoClient(mongodb_uri)\n",
    "database = client[database_name]"
   ]
  },
  {
   "cell_type": "markdown",
   "metadata": {},
   "source": [
    "#### Connecting to videos collection"
   ]
  },
  {
   "cell_type": "code",
   "execution_count": null,
   "metadata": {},
   "outputs": [],
   "source": [
    "videos = database['modified_videos_xx']     # updated videos collection"
   ]
  },
  {
   "cell_type": "markdown",
   "metadata": {},
   "source": [
    "#### Updating video category id"
   ]
  },
  {
   "cell_type": "code",
   "execution_count": null,
   "metadata": {},
   "outputs": [],
   "source": [
    "try:\n",
    "    for (key,value) in videos_categoryId_dict.items():\n",
    "    videos.update_many(\n",
    "    {\"youtube_id\" : key},\n",
    "    {\"$set\": { \"category_id\" : value}}\n",
    "    );\n",
    "except Exception as e:\n",
    "    print(exception)"
   ]
  }
 ],
 "metadata": {
  "kernelspec": {
   "display_name": "Python 3",
   "language": "python",
   "name": "python3"
  },
  "language_info": {
   "codemirror_mode": {
    "name": "ipython",
    "version": 3
   },
   "file_extension": ".py",
   "mimetype": "text/x-python",
   "name": "python",
   "nbconvert_exporter": "python",
   "pygments_lexer": "ipython3",
   "version": "3.9.6"
  },
  "orig_nbformat": 4
 },
 "nbformat": 4,
 "nbformat_minor": 2
}
