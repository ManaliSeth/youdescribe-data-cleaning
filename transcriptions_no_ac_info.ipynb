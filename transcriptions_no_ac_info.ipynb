{
 "cells": [
  {
   "cell_type": "code",
   "execution_count": 1,
   "metadata": {},
   "outputs": [],
   "source": [
    "import os\n",
    "from pymongo import MongoClient"
   ]
  },
  {
   "cell_type": "markdown",
   "metadata": {},
   "source": [
    "### Connection to MongoDB"
   ]
  },
  {
   "cell_type": "code",
   "execution_count": null,
   "metadata": {},
   "outputs": [],
   "source": [
    "mongodb_uri = os.environ.get('MONGODB_URI')\n",
    "database_name = os.environ.get('DATABASE_NAME')\n",
    "\n",
    "client = MongoClient(mongodb_uri)\n",
    "database = client[database_name]"
   ]
  },
  {
   "cell_type": "markdown",
   "metadata": {},
   "source": [
    "#### Connecting to transcriptions collection"
   ]
  },
  {
   "cell_type": "code",
   "execution_count": null,
   "metadata": {},
   "outputs": [],
   "source": [
    "transcriptions = database['transcriptions']"
   ]
  },
  {
   "cell_type": "markdown",
   "metadata": {},
   "source": [
    "#### Drop transcription docs with no audio clip info in audio clips collection"
   ]
  },
  {
   "cell_type": "code",
   "execution_count": null,
   "metadata": {},
   "outputs": [],
   "source": [
    "pipeline = [\n",
    "    {\n",
    "        '$lookup': {\n",
    "            'from': 'modified_audio_clips_xx',     # last updated audio clips collection\n",
    "            'localField': 'audio_clip', \n",
    "            'foreignField': '_id', \n",
    "            'as': 'transcript_ac'\n",
    "        }\n",
    "    }, {\n",
    "        '$match': {\n",
    "            'transcript_ac': {\n",
    "                '$ne': []\n",
    "            }\n",
    "        }\n",
    "    }, {\n",
    "        '$project': {\n",
    "            'transcript_ac': 0\n",
    "        }\n",
    "    }, {\n",
    "        '$out': 'modified_transcriptions'       # new collection\n",
    "    }\n",
    "]\n",
    "\n",
    "transcriptions.aggregate(pipeline)"
   ]
  }
 ],
 "metadata": {
  "kernelspec": {
   "display_name": "Python 3",
   "language": "python",
   "name": "python3"
  },
  "language_info": {
   "codemirror_mode": {
    "name": "ipython",
    "version": 3
   },
   "file_extension": ".py",
   "mimetype": "text/x-python",
   "name": "python",
   "nbconvert_exporter": "python",
   "pygments_lexer": "ipython3",
   "version": "3.9.6"
  },
  "orig_nbformat": 4
 },
 "nbformat": 4,
 "nbformat_minor": 2
}
