{
 "cells": [
  {
   "cell_type": "code",
   "execution_count": null,
   "metadata": {},
   "outputs": [],
   "source": [
    "import os\n",
    "from pymongo import MongoClient"
   ]
  },
  {
   "cell_type": "markdown",
   "metadata": {},
   "source": [
    "### Connection to MongoDB"
   ]
  },
  {
   "cell_type": "code",
   "execution_count": null,
   "metadata": {},
   "outputs": [],
   "source": [
    "mongodb_uri = os.environ.get('MONGODB_URI')\n",
    "database_name = os.environ.get('DATABASE_NAME')\n",
    "\n",
    "client = MongoClient(mongodb_uri)\n",
    "database = client[database_name]"
   ]
  },
  {
   "cell_type": "markdown",
   "metadata": {},
   "source": [
    "#### Connecting to database collections"
   ]
  },
  {
   "cell_type": "code",
   "execution_count": null,
   "metadata": {},
   "outputs": [],
   "source": [
    "videos = database['videos']     \n",
    "audio_descriptions = database['audio_descriptions']"
   ]
  },
  {
   "cell_type": "markdown",
   "metadata": {},
   "source": [
    "##### Updating video field in audio descriptions collection based on audio descriptions field of video collection"
   ]
  },
  {
   "cell_type": "code",
   "execution_count": null,
   "metadata": {},
   "outputs": [],
   "source": [
    "video_pipeline = [\n",
    "    {\n",
    "        '$match': {\n",
    "            'audio_descriptions': {\n",
    "                '$exists': True, \n",
    "                '$ne': []\n",
    "            }\n",
    "        }\n",
    "    }, {\n",
    "        '$unwind': {\n",
    "            'path': '$audio_descriptions'\n",
    "        }\n",
    "    }, {\n",
    "        '$project': {\n",
    "            '_id': 0, \n",
    "            'audio_description_id': '$audio_descriptions', \n",
    "            'video_id': '$_id'\n",
    "        }\n",
    "    }, {\n",
    "        '$out': 'AD_Video'      # new collection\n",
    "    }\n",
    "]\n",
    "\n",
    "videos.aggregate(video_pipeline)"
   ]
  },
  {
   "cell_type": "code",
   "execution_count": null,
   "metadata": {},
   "outputs": [],
   "source": [
    "ad_pipeline = [\n",
    "    {\n",
    "        '$lookup': {\n",
    "            'from': 'AD_Video', \n",
    "            'localField': '_id', \n",
    "            'foreignField': 'audio_description_id', \n",
    "            'as': 'AD_Video'\n",
    "        }\n",
    "    }, {\n",
    "        '$unwind': {\n",
    "            'path': '$AD_Video'\n",
    "        }\n",
    "    }, {\n",
    "        '$addFields': {\n",
    "            'video': '$AD_Video.video_id'\n",
    "        }\n",
    "    }, {\n",
    "        '$project': {\n",
    "            'AD_Video': 0\n",
    "        }\n",
    "    }, {\n",
    "        '$out': 'modified_audio_descriptions'  # new audio descriptions collection\n",
    "    }\n",
    "]\n",
    "\n",
    "audio_descriptions.aggregate(ad_pipeline)"
   ]
  }
 ],
 "metadata": {
  "kernelspec": {
   "display_name": "Python 3",
   "language": "python",
   "name": "python3"
  },
  "language_info": {
   "name": "python",
   "version": "3.9.6"
  },
  "orig_nbformat": 4
 },
 "nbformat": 4,
 "nbformat_minor": 2
}
