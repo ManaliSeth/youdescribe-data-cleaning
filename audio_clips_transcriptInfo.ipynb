{
 "cells": [
  {
   "cell_type": "code",
   "execution_count": null,
   "metadata": {},
   "outputs": [],
   "source": [
    "import pandas as pd\n",
    "from pymongo import MongoClient\n",
    "from bson.objectid import ObjectId"
   ]
  },
  {
   "cell_type": "markdown",
   "metadata": {},
   "source": [
    "#### Assuming audio clips transcribed already with google cloud speech to text api\n",
    "\n",
    "##### transcriptionResponse.json format\n",
    "    [\n",
    "        {\n",
    "            \"audio_file_name\": 'abc.wav',\n",
    "            \"transcription_response\": {\n",
    "                // api result\n",
    "            },\n",
    "            \"transcript\": 'transcribed audio clip sentence'\n",
    "        }\n",
    "    ]"
   ]
  },
  {
   "cell_type": "code",
   "execution_count": null,
   "metadata": {},
   "outputs": [],
   "source": [
    "tr = pd.read_json('./transcriptionResponse.json')"
   ]
  },
  {
   "cell_type": "code",
   "execution_count": null,
   "metadata": {},
   "outputs": [],
   "source": [
    "tr['audio_filename'].duplicated().value_counts()"
   ]
  },
  {
   "cell_type": "code",
   "execution_count": null,
   "metadata": {},
   "outputs": [],
   "source": [
    "tr = tr.drop_duplicates(subset='audio_filename')"
   ]
  },
  {
   "cell_type": "code",
   "execution_count": null,
   "metadata": {},
   "outputs": [],
   "source": [
    "output_rows = []\n",
    "\n",
    "for i,row in tr.iterrows():\n",
    "\n",
    "    audio_filename = row['audio_filename']\n",
    "    results = row[\"transcription_response\"][\"results\"]\n",
    "\n",
    "    for j in range(len(results)-1):\n",
    "        result = results[j]\n",
    "\n",
    "        alternative = result['alternatives'][0]\n",
    "        \n",
    "        if alternative!= {}:\n",
    "\n",
    "            transcript = alternative[\"transcript\"]\n",
    "            start_time = alternative[\"words\"][0][\"startTime\"]\n",
    "            start_time = float(str(start_time).replace('s',\"\"))\n",
    "            end_time = alternative[\"words\"][-1][\"endTime\"]\n",
    "            end_time = float(str(end_time).replace('s',\"\"))\n",
    "\n",
    "            output_row = {\n",
    "                \"audio_filename\": audio_filename,\n",
    "                \"sentence\": transcript,\n",
    "                \"start_time\": start_time,\n",
    "                \"end_time\": end_time,\n",
    "            }\n",
    "\n",
    "            output_rows.append(output_row)\n",
    "        \n",
    "transcript_info = pd.DataFrame(output_rows)"
   ]
  },
  {
   "cell_type": "code",
   "execution_count": null,
   "metadata": {},
   "outputs": [],
   "source": [
    "transcript_info.head()"
   ]
  },
  {
   "cell_type": "code",
   "execution_count": null,
   "metadata": {},
   "outputs": [],
   "source": [
    "len(transcript_info)"
   ]
  },
  {
   "cell_type": "code",
   "execution_count": null,
   "metadata": {},
   "outputs": [],
   "source": [
    "len(transcript_info['audio_filename'].unique())"
   ]
  },
  {
   "cell_type": "code",
   "execution_count": null,
   "metadata": {},
   "outputs": [],
   "source": [
    "transcript_info_dict = transcript_info.copy()"
   ]
  },
  {
   "cell_type": "code",
   "execution_count": null,
   "metadata": {},
   "outputs": [],
   "source": [
    "# Creating transcript info dictionary\n",
    "transcript_info_dict['transcript'] = transcript_info_dict[['sentence', 'start_time', 'end_time']].apply(lambda x: x.to_dict(), axis=1)"
   ]
  },
  {
   "cell_type": "code",
   "execution_count": null,
   "metadata": {},
   "outputs": [],
   "source": [
    "transcript_info_dict.head()"
   ]
  },
  {
   "cell_type": "code",
   "execution_count": null,
   "metadata": {},
   "outputs": [],
   "source": [
    "grouped_transcript_info = transcript_info_dict.groupby('audio_filename')['transcript'].agg(list).reset_index()"
   ]
  },
  {
   "cell_type": "code",
   "execution_count": null,
   "metadata": {},
   "outputs": [],
   "source": [
    "grouped_transcript_info.head()"
   ]
  },
  {
   "cell_type": "code",
   "execution_count": null,
   "metadata": {},
   "outputs": [],
   "source": [
    "len(grouped_transcript_info)"
   ]
  },
  {
   "attachments": {},
   "cell_type": "markdown",
   "metadata": {},
   "source": [
    "### Connection to MongoDB"
   ]
  },
  {
   "cell_type": "code",
   "execution_count": null,
   "metadata": {},
   "outputs": [],
   "source": [
    "mongodb_uri = os.environ.get('MONGODB_URI')\n",
    "database_name = os.environ.get('DATABASE_NAME')\n",
    "\n",
    "client = MongoClient(mongodb_uri)\n",
    "database = client[database_name]"
   ]
  },
  {
   "attachments": {},
   "cell_type": "markdown",
   "metadata": {},
   "source": [
    "#### Update transcript in audio clips collection"
   ]
  },
  {
   "cell_type": "code",
   "execution_count": null,
   "metadata": {},
   "outputs": [],
   "source": [
    "audio_clips = database['modified_audio_clips_xx']   # last updated audio clips collection"
   ]
  },
  {
   "cell_type": "code",
   "execution_count": null,
   "metadata": {},
   "outputs": [],
   "source": [
    "grouped_transcript_info_df = grouped_transcript_info[:len(grouped_transcript_info)]"
   ]
  },
  {
   "cell_type": "code",
   "execution_count": null,
   "metadata": {},
   "outputs": [],
   "source": [
    "def update_transcript(row):\n",
    "\n",
    "    file_name = row['audio_filename']\n",
    "\n",
    "    transcript = row['transcript']\n",
    "\n",
    "    # create an array of objects based on the list of dictionaries\n",
    "    transcript_info = [{'_id': ObjectId(), 'sentence': d['sentence'], 'start_time': d['start_time'], 'end_time': d['end_time']} for d in transcript]\n",
    "\n",
    "    audio_clips.update_many({'$and': [{'file_name': file_name}, {'transcript': {'$exists': True, '$eq': []}}]}, {'$set': {'transcript': transcript_info}})\n",
    "\n",
    "# applying the function to each row of the DataFrame\n",
    "grouped_transcript_info_df.apply(update_transcript, axis=1)"
   ]
  }
 ],
 "metadata": {
  "kernelspec": {
   "display_name": "Python 3.8.9 64-bit",
   "language": "python",
   "name": "python3"
  },
  "language_info": {
   "codemirror_mode": {
    "name": "ipython",
    "version": 3
   },
   "file_extension": ".py",
   "mimetype": "text/x-python",
   "name": "python",
   "nbconvert_exporter": "python",
   "pygments_lexer": "ipython3",
   "version": "3.9.6"
  },
  "orig_nbformat": 4,
  "vscode": {
   "interpreter": {
    "hash": "31f2aee4e71d21fbe5cf8b01ff0e069b9275f58929596ceb00d14d90e3e16cd6"
   }
  }
 },
 "nbformat": 4,
 "nbformat_minor": 2
}
