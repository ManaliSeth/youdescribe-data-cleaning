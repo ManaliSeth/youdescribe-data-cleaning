{
 "cells": [
  {
   "cell_type": "code",
   "execution_count": null,
   "metadata": {},
   "outputs": [],
   "source": [
    "import os\n",
    "from pymongo import MongoClient"
   ]
  },
  {
   "cell_type": "markdown",
   "metadata": {},
   "source": [
    "### Connection to MongoDB"
   ]
  },
  {
   "cell_type": "code",
   "execution_count": null,
   "metadata": {},
   "outputs": [],
   "source": [
    "mongodb_uri = os.environ.get('MONGODB_URI')\n",
    "database_name = os.environ.get('DATABASE_NAME')\n",
    "\n",
    "client = MongoClient(mongodb_uri)\n",
    "database = client[database_name]"
   ]
  },
  {
   "cell_type": "markdown",
   "metadata": {},
   "source": [
    "#### Connecting to database collections"
   ]
  },
  {
   "cell_type": "code",
   "execution_count": null,
   "metadata": {},
   "outputs": [],
   "source": [
    "audio_descriptions = database['modified_audio_descriptions_x'] # last updated audio descriptions collection\n",
    "audio_clips = database['audio_clips'] # last updated audio clips collection"
   ]
  },
  {
   "cell_type": "markdown",
   "metadata": {},
   "source": [
    "##### Updating video field in audio descriptions collection based on audio descriptions field of video collection"
   ]
  },
  {
   "cell_type": "code",
   "execution_count": null,
   "metadata": {},
   "outputs": [],
   "source": [
    "ad_pipeline = [\n",
    "    {\n",
    "        '$match': {\n",
    "            'audio_clips': {\n",
    "                '$exists': True, \n",
    "                '$ne': []\n",
    "            }\n",
    "        }\n",
    "    }, {\n",
    "        '$unwind': {\n",
    "            'path': '$audio_clips'\n",
    "        }\n",
    "    }, {\n",
    "        '$project': {\n",
    "            '_id': 0, \n",
    "            'audio_clips_id': '$audio_clips', \n",
    "            'audio_description_id': '$_id'\n",
    "        }\n",
    "    }, {\n",
    "        '$out': 'AC_AD'   # new collection\n",
    "    }\n",
    "]\n",
    "\n",
    "audio_descriptions.aggregate(ad_pipeline)"
   ]
  },
  {
   "cell_type": "code",
   "execution_count": null,
   "metadata": {},
   "outputs": [],
   "source": [
    "ac_pipeline = [\n",
    "    {\n",
    "        '$lookup': {\n",
    "            'from': 'AC_AD', \n",
    "            'localField': '_id', \n",
    "            'foreignField': 'audio_clips_id', \n",
    "            'as': 'AC_AD'\n",
    "        }\n",
    "    }, {\n",
    "        '$unwind': {\n",
    "            'path': '$AC_AD'\n",
    "        }\n",
    "    }, {\n",
    "        '$addFields': {\n",
    "            'audio_description': '$AC_AD.audio_description_id'\n",
    "        }\n",
    "    }, {\n",
    "        '$project': {\n",
    "            'AC_AD': 0\n",
    "        }\n",
    "    }, {\n",
    "        '$out': 'modified_audio_clips'\n",
    "    }\n",
    "]\n",
    "\n",
    "audio_clips.aggregate(ac_pipeline)"
   ]
  }
 ],
 "metadata": {
  "kernelspec": {
   "display_name": "Python 3",
   "language": "python",
   "name": "python3"
  },
  "language_info": {
   "name": "python",
   "version": "3.9.6"
  },
  "orig_nbformat": 4
 },
 "nbformat": 4,
 "nbformat_minor": 2
}
