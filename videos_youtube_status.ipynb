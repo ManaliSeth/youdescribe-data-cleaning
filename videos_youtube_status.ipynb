{
 "cells": [
  {
   "cell_type": "code",
   "execution_count": 2,
   "metadata": {},
   "outputs": [],
   "source": [
    "import os\n",
    "from pymongo import MongoClient\n",
    "import pandas as pd\n",
    "import json\n",
    "from googleapiclient.discovery import build"
   ]
  },
  {
   "cell_type": "markdown",
   "metadata": {},
   "source": [
    "#### Importing videos csv"
   ]
  },
  {
   "cell_type": "code",
   "execution_count": 7,
   "metadata": {},
   "outputs": [],
   "source": [
    "videos_df = pd.read_csv('./csvs/modified_videos.csv')     # Path to videos or modified_videos csv, whichever is updated"
   ]
  },
  {
   "cell_type": "code",
   "execution_count": 8,
   "metadata": {},
   "outputs": [
    {
     "name": "stdout",
     "output_type": "stream",
     "text": [
      "<class 'pandas.core.frame.DataFrame'>\n",
      "RangeIndex: 7355 entries, 0 to 7354\n",
      "Data columns (total 14 columns):\n",
      " #   Column              Non-Null Count  Dtype  \n",
      "---  ------              --------------  -----  \n",
      " 0   _id                 7355 non-null   object \n",
      " 1   audio_descriptions  7355 non-null   object \n",
      " 2   category            3631 non-null   object \n",
      " 3   category_id         3631 non-null   float64\n",
      " 4   created_at          7353 non-null   float64\n",
      " 5   description         5376 non-null   object \n",
      " 6   duration            3631 non-null   float64\n",
      " 7   legacy_video_id     1282 non-null   float64\n",
      " 8   tags                7005 non-null   object \n",
      " 9   title               7309 non-null   object \n",
      " 10  updated_at          7355 non-null   int64  \n",
      " 11  views               7355 non-null   int64  \n",
      " 12  youtube_id          7355 non-null   object \n",
      " 13  youtube_status      7355 non-null   object \n",
      "dtypes: float64(4), int64(2), object(8)\n",
      "memory usage: 804.6+ KB\n"
     ]
    }
   ],
   "source": [
    "videos_df.info()"
   ]
  },
  {
   "cell_type": "markdown",
   "metadata": {},
   "source": [
    "#### Getting list of youtube_id for all videos in live dataset "
   ]
  },
  {
   "cell_type": "code",
   "execution_count": null,
   "metadata": {},
   "outputs": [],
   "source": [
    "videos_YTids_list = list(videos_df['youtube_id'])"
   ]
  },
  {
   "cell_type": "markdown",
   "metadata": {},
   "source": [
    "### YouTube API key"
   ]
  },
  {
   "cell_type": "code",
   "execution_count": null,
   "metadata": {},
   "outputs": [],
   "source": [
    "developer_key = os.environ.get('DEVELOPER_KEY')\n",
    "\n",
    "youtube = build('youtube', 'v3', developerKey=developer_key) # project-0127 Data Cleaning\n"
   ]
  },
  {
   "cell_type": "markdown",
   "metadata": {},
   "source": [
    "##### Fetching youtube status of videos"
   ]
  },
  {
   "cell_type": "code",
   "execution_count": null,
   "metadata": {},
   "outputs": [],
   "source": [
    "part_string = ['status', 'contentDetails']\n",
    "videos_youtube_id = videos_YTids_list"
   ]
  },
  {
   "cell_type": "code",
   "execution_count": null,
   "metadata": {},
   "outputs": [],
   "source": [
    "# Considering videos youtube status available when\n",
    "#     - embeddable = True\n",
    "#     - privacy status = public / unlisted\n",
    "#     - upload status = processed / uploaded\n",
    "\n",
    "videos_youtube_status_dict = {}\n",
    "for idx in range(0,len(videos_youtube_id)):\n",
    "\n",
    "    try:\n",
    "        request = youtube.videos().list(\n",
    "            part=part_string,\n",
    "            id=videos_youtube_id[idx],\n",
    "        )\n",
    "        response = request.execute()\n",
    "\n",
    "        if response['items']!=[] and all(key in response['items'][0]['status'] for key in ('embeddable', 'privacyStatus', 'uploadStatus')):\n",
    "            if response['items'][0]['status']['embeddable'] == True and (response['items'][0]['status']['privacyStatus'] == 'public' or response['items'][0]['status']['privacyStatus'] == 'unlisted') and (response['items'][0]['status']['uploadStatus'] == 'processed' or response['items'][0]['status']['uploadStatus'] == 'uploaded'):\n",
    "\n",
    "                videos_youtube_status = 'available'\n",
    "        else:\n",
    "            videos_youtube_status = 'unavailable'\n",
    "\n",
    "    except Exception as e:\n",
    "        print(\"An exception occured\")\n",
    "        print(e)\n",
    "        videos_youtube_status = ''\n",
    "\n",
    "    videos_youtube_status_dict[videos_youtube_id[idx]] = videos_youtube_status   \n",
    "        "
   ]
  },
  {
   "cell_type": "code",
   "execution_count": null,
   "metadata": {},
   "outputs": [],
   "source": [
    "videos_youtube_status = open('./youtube_api/videos_youtube_status.txt',\"a\")\n",
    "videos_youtube_status.write(json.dumps(videos_youtube_status_dict))\n",
    "videos_youtube_status.close()"
   ]
  },
  {
   "cell_type": "markdown",
   "metadata": {},
   "source": [
    "### Connection to MongoDB"
   ]
  },
  {
   "cell_type": "code",
   "execution_count": null,
   "metadata": {},
   "outputs": [],
   "source": [
    "mongodb_uri = os.environ.get('MONGODB_URI')\n",
    "database_name = os.environ.get('DATABASE_NAME')\n",
    "\n",
    "client = MongoClient(mongodb_uri)\n",
    "database = client[database_name]"
   ]
  },
  {
   "cell_type": "markdown",
   "metadata": {},
   "source": [
    "#### Connecting to videos collection"
   ]
  },
  {
   "cell_type": "code",
   "execution_count": null,
   "metadata": {},
   "outputs": [],
   "source": [
    "videos = database['modified_videos']  # videos = database['videos'] if modified_videos do not exist"
   ]
  },
  {
   "cell_type": "markdown",
   "metadata": {},
   "source": [
    "##### Updating youtube_status for videos"
   ]
  },
  {
   "cell_type": "code",
   "execution_count": null,
   "metadata": {},
   "outputs": [],
   "source": [
    "for (key,value) in videos_youtube_status_dict.items():\n",
    "    videos.update_many(\n",
    "    {\"youtube_id\" : key},\n",
    "    {\"$set\": { \"youtube_status\" : value}}\n",
    "    );"
   ]
  }
 ],
 "metadata": {
  "kernelspec": {
   "display_name": "Python 3",
   "language": "python",
   "name": "python3"
  },
  "language_info": {
   "codemirror_mode": {
    "name": "ipython",
    "version": 3
   },
   "file_extension": ".py",
   "mimetype": "text/x-python",
   "name": "python",
   "nbconvert_exporter": "python",
   "pygments_lexer": "ipython3",
   "version": "3.9.6"
  },
  "orig_nbformat": 4
 },
 "nbformat": 4,
 "nbformat_minor": 2
}
