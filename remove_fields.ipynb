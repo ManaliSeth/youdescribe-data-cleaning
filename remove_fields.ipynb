{
 "cells": [
  {
   "cell_type": "code",
   "execution_count": 2,
   "metadata": {},
   "outputs": [],
   "source": [
    "import os\n",
    "from pymongo import MongoClient"
   ]
  },
  {
   "cell_type": "markdown",
   "metadata": {},
   "source": [
    "### Connection to MongoDB"
   ]
  },
  {
   "cell_type": "code",
   "execution_count": null,
   "metadata": {},
   "outputs": [],
   "source": [
    "mongodb_uri = os.environ.get('MONGODB_URI')\n",
    "database_name = os.environ.get('DATABASE_NAME')\n",
    "\n",
    "client = MongoClient(mongodb_uri)\n",
    "database = client[database_name]"
   ]
  },
  {
   "cell_type": "markdown",
   "metadata": {},
   "source": [
    "#### Connecting to database collections"
   ]
  },
  {
   "cell_type": "code",
   "execution_count": null,
   "metadata": {},
   "outputs": [],
   "source": [
    "videos = database['modified_videos_xxxx']       # last updated videos collection\n",
    "audio_descriptions = database['modified_audio_descriptions_xxxx']     # last updated audio descriptions collection\n",
    "audio_clips = database['modified_audio_clips_xx']     # last updated audio clips collection\n",
    "users = database['users']      # last updated users collection"
   ]
  },
  {
   "cell_type": "markdown",
   "metadata": {},
   "source": [
    "#### Removing required fields"
   ]
  },
  {
   "cell_type": "code",
   "execution_count": null,
   "metadata": {},
   "outputs": [],
   "source": [
    "try:\n",
    "    videos.update_many(\n",
    "        {}, \n",
    "        {\"$unset\": {\"legacy_video_id\":1}}\n",
    "    );\n",
    "except Exception as e:\n",
    "    print(\"Exception:\", e)"
   ]
  },
  {
   "cell_type": "code",
   "execution_count": null,
   "metadata": {},
   "outputs": [],
   "source": [
    "try:\n",
    "    audio_descriptions.update_many(\n",
    "        {}, \n",
    "        {\"$unset\": {\"legacy_video_id\":1, \"legacy_user_id\": 1}}\n",
    "    );\n",
    "except Exception as e:\n",
    "    print(\"Exception:\", e)"
   ]
  },
  {
   "cell_type": "code",
   "execution_count": null,
   "metadata": {},
   "outputs": [],
   "source": [
    "try:\n",
    "    audio_clips.update_many(\n",
    "        {}, \n",
    "        {\"$unset\": {\"legacy_video_id\":1, \"legacy_user_id\": 1, \"legacy_audio_clip_id\": 1}}\n",
    "    );\n",
    "except Exception as e:\n",
    "    print(\"Exception:\", e)"
   ]
  },
  {
   "cell_type": "code",
   "execution_count": null,
   "metadata": {},
   "outputs": [],
   "source": [
    "try:\n",
    "    users.update_many(\n",
    "        {}, \n",
    "        {\"$unset\": {\"legacy_user_id\":1}}\n",
    "    );\n",
    "except Exception as e:\n",
    "    print(\"Exception:\", e)"
   ]
  }
 ],
 "metadata": {
  "kernelspec": {
   "display_name": "Python 3",
   "language": "python",
   "name": "python3"
  },
  "language_info": {
   "codemirror_mode": {
    "name": "ipython",
    "version": 3
   },
   "file_extension": ".py",
   "mimetype": "text/x-python",
   "name": "python",
   "nbconvert_exporter": "python",
   "pygments_lexer": "ipython3",
   "version": "3.9.6"
  },
  "orig_nbformat": 4
 },
 "nbformat": 4,
 "nbformat_minor": 2
}
