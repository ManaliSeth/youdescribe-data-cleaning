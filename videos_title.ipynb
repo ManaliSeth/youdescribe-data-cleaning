{
 "cells": [
  {
   "cell_type": "code",
   "execution_count": null,
   "metadata": {},
   "outputs": [],
   "source": [
    "import pandas as pd\n",
    "import os\n",
    "import json\n",
    "from googleapiclient.discovery import build\n",
    "from pymongo import MongoClient"
   ]
  },
  {
   "cell_type": "markdown",
   "metadata": {},
   "source": [
    "#### Importing videos csv "
   ]
  },
  {
   "cell_type": "code",
   "execution_count": null,
   "metadata": {},
   "outputs": [],
   "source": [
    "videos_df = pd.read_csv('./csvs/modified_videos_xx.csv')   # last updated videos dataset"
   ]
  },
  {
   "cell_type": "code",
   "execution_count": null,
   "metadata": {},
   "outputs": [],
   "source": [
    "videos_df.info()"
   ]
  },
  {
   "attachments": {},
   "cell_type": "markdown",
   "metadata": {},
   "source": [
    "#### Getting list of youtube_id for videos missing title in live dataset \n"
   ]
  },
  {
   "cell_type": "code",
   "execution_count": null,
   "metadata": {},
   "outputs": [],
   "source": [
    "videos_YTids_noTitle_list = list(videos_df.loc[videos_df['title'].isna(),'youtube_id'])\n",
    "videos_YTids_noTitle_list[:5]"
   ]
  },
  {
   "cell_type": "markdown",
   "metadata": {},
   "source": [
    "### YouTube API key"
   ]
  },
  {
   "cell_type": "code",
   "execution_count": null,
   "metadata": {},
   "outputs": [],
   "source": [
    "developer_key = os.environ.get('DEVELOPER_KEY')\n",
    "\n",
    "youtube = build('youtube', 'v3', developerKey=developer_key) # project-0127 Data Cleaning"
   ]
  },
  {
   "cell_type": "markdown",
   "metadata": {},
   "source": [
    "#### Fetching title of videos"
   ]
  },
  {
   "cell_type": "code",
   "execution_count": null,
   "metadata": {},
   "outputs": [],
   "source": [
    "part_string = 'snippet'\n",
    "videos_youtube_id = videos_YTids_noTitle_list"
   ]
  },
  {
   "cell_type": "code",
   "execution_count": null,
   "metadata": {},
   "outputs": [],
   "source": [
    "videos_title_dict = {}\n",
    "for id in range(0,len(videos_youtube_id)):\n",
    "\n",
    "    try:\n",
    "        request = youtube.videos().list(\n",
    "            part=part_string,\n",
    "            id=videos_youtube_id[id],\n",
    "        )\n",
    "        response = request.execute()\n",
    "\n",
    "        if response['items']!=[] and response['items'][0]['snippet']['title'] != '':\n",
    "\n",
    "            videos_title = response['items'][0]['snippet']['title']\n",
    "        \n",
    "        else:\n",
    "            videos_title = None\n",
    "\n",
    "    except Exception as e:\n",
    "        print(\"An exception occured\")\n",
    "        print(e)\n",
    "        videos_title = None\n",
    "\n",
    "    videos_title_dict[videos_youtube_id[id]] = videos_title"
   ]
  },
  {
   "cell_type": "code",
   "execution_count": null,
   "metadata": {},
   "outputs": [],
   "source": [
    "title = open('./youtube_api/videos_title.txt',\"a\")\n",
    "title.write(json.dumps(videos_title_dict))\n",
    "title.close()"
   ]
  },
  {
   "cell_type": "markdown",
   "metadata": {},
   "source": [
    "### Connection to MongoDB"
   ]
  },
  {
   "cell_type": "code",
   "execution_count": null,
   "metadata": {},
   "outputs": [],
   "source": [
    "mongodb_uri = os.environ.get('MONGODB_URI')\n",
    "database_name = os.environ.get('DATABASE_NAME')\n",
    "\n",
    "client = MongoClient(mongodb_uri)\n",
    "database = client[database_name]"
   ]
  },
  {
   "cell_type": "markdown",
   "metadata": {},
   "source": [
    "#### Connecting to videos collection"
   ]
  },
  {
   "cell_type": "code",
   "execution_count": null,
   "metadata": {},
   "outputs": [],
   "source": [
    "videos = database['modified_videos_xx']   # last updated videos collection"
   ]
  },
  {
   "cell_type": "markdown",
   "metadata": {},
   "source": [
    "#### Updating video title"
   ]
  },
  {
   "cell_type": "code",
   "execution_count": null,
   "metadata": {},
   "outputs": [],
   "source": [
    "try:\n",
    "    for (key,value) in videos_title_dict.items():\n",
    "        videos.update_many(\n",
    "        {\"youtube_id\" : key},\n",
    "        {\"$set\": { \"title\" : value}}\n",
    "        );\n",
    "except Exception as e:\n",
    "    print(e)"
   ]
  }
 ],
 "metadata": {
  "kernelspec": {
   "display_name": "Python 3.8.9 64-bit",
   "language": "python",
   "name": "python3"
  },
  "language_info": {
   "codemirror_mode": {
    "name": "ipython",
    "version": 3
   },
   "file_extension": ".py",
   "mimetype": "text/x-python",
   "name": "python",
   "nbconvert_exporter": "python",
   "pygments_lexer": "ipython3",
   "version": "3.9.6"
  },
  "orig_nbformat": 4,
  "vscode": {
   "interpreter": {
    "hash": "31f2aee4e71d21fbe5cf8b01ff0e069b9275f58929596ceb00d14d90e3e16cd6"
   }
  }
 },
 "nbformat": 4,
 "nbformat_minor": 2
}
