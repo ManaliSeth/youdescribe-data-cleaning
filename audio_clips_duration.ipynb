{
 "cells": [
  {
   "cell_type": "code",
   "execution_count": 2,
   "metadata": {},
   "outputs": [],
   "source": [
    "import os\n",
    "import pandas as pd\n",
    "from pymongo import MongoClient\n",
    "from bson.objectid import ObjectId\n",
    "import json\n",
    "import audio_metadata\n",
    "from googleapiclient.discovery import build"
   ]
  },
  {
   "cell_type": "markdown",
   "metadata": {},
   "source": [
    "##### Download all audio clips first!!!!"
   ]
  },
  {
   "cell_type": "markdown",
   "metadata": {},
   "source": [
    "#### Importing dataset"
   ]
  },
  {
   "cell_type": "code",
   "execution_count": null,
   "metadata": {},
   "outputs": [],
   "source": [
    "audio_clips_df = pd.read_csv('./csvs/modified_audio_clips_xx.csv', low_memory=False)      # last updated audio clips collection"
   ]
  },
  {
   "cell_type": "code",
   "execution_count": null,
   "metadata": {},
   "outputs": [],
   "source": [
    "audio_clips_df.info()"
   ]
  },
  {
   "cell_type": "markdown",
   "metadata": {},
   "source": [
    "#### Retrieve audio metadata - duration"
   ]
  },
  {
   "cell_type": "code",
   "execution_count": null,
   "metadata": {},
   "outputs": [],
   "source": [
    "def clip_duration(audio_file):\n",
    "    wave_file = audio_metadata.load(audio_file)\n",
    "    duration = wave_file['streaminfo'].duration\n",
    "    duration = \"{0:.3f}\".format(duration)\n",
    "    return duration"
   ]
  },
  {
   "cell_type": "code",
   "execution_count": null,
   "metadata": {},
   "outputs": [],
   "source": [
    "# Download all audio clips to find audio metadata\n",
    "audio_clips_duration_dict = {}\n",
    "for index,audio_clip in audio_clips_df.iloc[:].iterrows():\n",
    "\n",
    "    if audio_clip['file_name']:\n",
    "        try:\n",
    "            # directory where all audio clips are stored\n",
    "            directory = os.environ.get('AUDIO_CLIPS_DIRECTORY_PATH')\n",
    "            audio_file = directory + audio_clip['file_name']\n",
    "            duration = clip_duration(audio_file)\n",
    "            audio_clips_duration_dict[audio_clip['_id']] = float(duration)\n",
    "        except Exception as e:\n",
    "            with open('./exceptions/audio_clips_duration_exception.txt', 'a') as audio_clips_duration_exception:\n",
    "                audio_clips_duration_exception.write(audio_clip['file_name'])\n",
    "                audio_clips_duration_exception.close()\n",
    "            audio_clips_duration_dict[audio_clip['_id']] = None\n",
    "    else:\n",
    "        audio_clips_duration_dict[audio_clip['_id']] = None"
   ]
  },
  {
   "cell_type": "code",
   "execution_count": null,
   "metadata": {},
   "outputs": [],
   "source": [
    "duration = open('./youtube_api/audio_clips_duration.txt',\"a\")\n",
    "duration.write(json.dumps(audio_clips_duration_dict))\n",
    "duration.close()"
   ]
  },
  {
   "cell_type": "markdown",
   "metadata": {},
   "source": [
    "### Connection to MongoDB"
   ]
  },
  {
   "cell_type": "code",
   "execution_count": null,
   "metadata": {},
   "outputs": [],
   "source": [
    "mongodb_uri = os.environ.get('MONGODB_URI')\n",
    "database_name = os.environ.get('DATABASE_NAME')\n",
    "\n",
    "client = MongoClient(mongodb_uri)\n",
    "database = client[database_name]"
   ]
  },
  {
   "cell_type": "markdown",
   "metadata": {},
   "source": [
    "#### Connecting to audio clips collection"
   ]
  },
  {
   "cell_type": "code",
   "execution_count": null,
   "metadata": {},
   "outputs": [],
   "source": [
    "audio_clips = database['modified_audio_clips_xx']   # last updated audio clips collection"
   ]
  },
  {
   "cell_type": "markdown",
   "metadata": {},
   "source": [
    "#### Update audio clips duration"
   ]
  },
  {
   "cell_type": "code",
   "execution_count": null,
   "metadata": {},
   "outputs": [],
   "source": [
    "try:\n",
    "    for (key,value) in audio_clips_duration_dict.items():\n",
    "        audio_clips.find_one_and_update(\n",
    "        {\"_id\" : ObjectId(key)},\n",
    "        {\"$set\": { \"duration\" : value}}\n",
    "    );\n",
    "except Exception as e:\n",
    "    print(\"Exception: \", e)"
   ]
  },
  {
   "cell_type": "markdown",
   "metadata": {},
   "source": [
    "#### Updating duration with filename - extended.mp3"
   ]
  },
  {
   "cell_type": "code",
   "execution_count": null,
   "metadata": {},
   "outputs": [],
   "source": [
    "# Audio Clip ids with duration:\n",
    "\n",
    "# 604b805eb6d11f34349a885c - 2.16\n",
    "# 604b805eb6d11f34349a885d - 7.368\n",
    "# 604b805eb6d11f34349a885e - 18.168\n",
    "# 604b805eb6d11f34349a885f - 2.904\n",
    "# 604b805eb6d11f34349a8860 - 17.064\n",
    "# 604b805eb6d11f34349a8861 - 7.44\n",
    "# 604b805eb6d11f34349a8862 - 0.576\n",
    "# 604b805eb6d11f34349a8863 - 13.152\n",
    "# 604b805eb6d11f34349a8864 - 2.04\n",
    "# 604b805eb6d11f34349a8865 - 4.128\n",
    "# 604b805eb6d11f34349a8854 - 7.2\n",
    "# 604b805eb6d11f34349a8855 - 3.336\n",
    "# 604b805eb6d11f34349a8856 - 4.152\n",
    "# 604b805eb6d11f34349a8858 - 28.32\n",
    "# 604b805eb6d11f34349a8859 - 8.016\n",
    "# 604b805eb6d11f34349a885a - 3.288\n",
    "# 604b805eb6d11f34349a885b - 1.92\n",
    "\n",
    "try:\n",
    "    audio_clips.find_one_and_update(\n",
    "    {\"_id\" : ObjectId('604b805eb6d11f34349a885b')},   # change object id from above list manually to update for all \n",
    "    {\"$set\": { \"duration\" : 1.92}}      # change duration from above list manually to update for all \n",
    "    );\n",
    "except Exception as e:\n",
    "    print(e)"
   ]
  },
  {
   "cell_type": "markdown",
   "metadata": {},
   "source": [
    "#### Removing audio clips with <0.2s duration in audio clips collection"
   ]
  },
  {
   "cell_type": "code",
   "execution_count": null,
   "metadata": {},
   "outputs": [],
   "source": [
    "try:\n",
    "    audio_clips.delete_many({\"duration\": {\"$lt\": 0.2}})\n",
    "except Exception as e:\n",
    "    print(e)"
   ]
  }
 ],
 "metadata": {
  "kernelspec": {
   "display_name": "Python 3",
   "language": "python",
   "name": "python3"
  },
  "language_info": {
   "codemirror_mode": {
    "name": "ipython",
    "version": 3
   },
   "file_extension": ".py",
   "mimetype": "text/x-python",
   "name": "python",
   "nbconvert_exporter": "python",
   "pygments_lexer": "ipython3",
   "version": "3.9.6"
  },
  "orig_nbformat": 4
 },
 "nbformat": 4,
 "nbformat_minor": 2
}
