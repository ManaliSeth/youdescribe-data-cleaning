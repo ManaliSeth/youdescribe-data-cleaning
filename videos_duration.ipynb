{
 "cells": [
  {
   "cell_type": "code",
   "execution_count": 1,
   "metadata": {},
   "outputs": [],
   "source": [
    "import os\n",
    "from pymongo import MongoClient\n",
    "import pandas as pd\n",
    "import re\n",
    "import json\n",
    "from googleapiclient.discovery import build\n",
    "from datetime import timedelta"
   ]
  },
  {
   "cell_type": "markdown",
   "metadata": {},
   "source": [
    "#### Importing videos csv"
   ]
  },
  {
   "cell_type": "code",
   "execution_count": null,
   "metadata": {},
   "outputs": [],
   "source": [
    "videos_df = pd.read_csv('./csvs/modified_videos_xx.csv')     # last updated videos dataset"
   ]
  },
  {
   "cell_type": "code",
   "execution_count": null,
   "metadata": {},
   "outputs": [],
   "source": [
    "videos_df.info()"
   ]
  },
  {
   "cell_type": "markdown",
   "metadata": {},
   "source": [
    "#### Getting list of youtube_id for available videos missing duration in live dataset "
   ]
  },
  {
   "cell_type": "code",
   "execution_count": null,
   "metadata": {},
   "outputs": [],
   "source": [
    "videos_YTids_noDuration_list = list(videos_df.loc[videos_df['duration'].isna(),'youtube_id'])\n",
    "videos_YTids_noDuration_list[:5]"
   ]
  },
  {
   "cell_type": "markdown",
   "metadata": {},
   "source": [
    "### YouTube API key"
   ]
  },
  {
   "cell_type": "code",
   "execution_count": null,
   "metadata": {},
   "outputs": [],
   "source": [
    "developer_key = os.environ.get('DEVELOPER_KEY')\n",
    "\n",
    "youtube = build('youtube', 'v3', developerKey=developer_key) # project-0127 Data Cleaning"
   ]
  },
  {
   "cell_type": "markdown",
   "metadata": {},
   "source": [
    "#### Fetching duration of videos"
   ]
  },
  {
   "cell_type": "code",
   "execution_count": null,
   "metadata": {},
   "outputs": [],
   "source": [
    "part_string = 'contentDetails'\n",
    "videos_youtube_id = videos_YTids_noDuration_list"
   ]
  },
  {
   "cell_type": "code",
   "execution_count": null,
   "metadata": {},
   "outputs": [],
   "source": [
    "hours_pattern = re.compile(r'(\\d+)H')\n",
    "minutes_pattern = re.compile(r'(\\d+)M')\n",
    "seconds_pattern = re.compile(r'(\\d+)S')"
   ]
  },
  {
   "cell_type": "code",
   "execution_count": null,
   "metadata": {},
   "outputs": [],
   "source": [
    "videos_duration_dict = {}\n",
    "for id in range(0,len(videos_youtube_id)):\n",
    "\n",
    "    try:\n",
    "        request = youtube.videos().list(\n",
    "            part=part_string,\n",
    "            id=videos_youtube_id[id],\n",
    "        )\n",
    "        response = request.execute()\n",
    "\n",
    "        if response['items']!=[] and response['items'][0]['contentDetails']['duration'] != '':\n",
    "\n",
    "            duration = response['items'][0]['contentDetails']['duration']\n",
    "\n",
    "            hours = hours_pattern.search(duration)\n",
    "            minutes = minutes_pattern.search(duration)\n",
    "            seconds = seconds_pattern.search(duration)\n",
    "\n",
    "            hours = int(hours.group(1)) if hours else 0\n",
    "            minutes = int(minutes.group(1)) if minutes else 0\n",
    "            seconds = int(seconds.group(1)) if seconds else 0\n",
    "\n",
    "            videos_seconds = timedelta(\n",
    "                hours=hours,\n",
    "                minutes=minutes,\n",
    "                seconds=seconds\n",
    "            ).total_seconds()\n",
    "        \n",
    "        else:\n",
    "            videos_seconds = None\n",
    "\n",
    "    except Exception as e:\n",
    "        print(\"An exception occured\")\n",
    "        print(e)\n",
    "        videos_seconds = None\n",
    "        \n",
    "    videos_duration_dict[videos_youtube_id[id]] = videos_seconds    "
   ]
  },
  {
   "cell_type": "code",
   "execution_count": null,
   "metadata": {},
   "outputs": [],
   "source": [
    "duration = open('./youtube_api/videos_duration.txt',\"a\")\n",
    "duration.write(json.dumps(videos_duration_dict))\n",
    "duration.close()"
   ]
  },
  {
   "cell_type": "markdown",
   "metadata": {},
   "source": [
    "### Connection to MongoDB"
   ]
  },
  {
   "cell_type": "code",
   "execution_count": 3,
   "metadata": {},
   "outputs": [],
   "source": [
    "mongodb_uri = os.environ.get('MONGODB_URI')\n",
    "database_name = os.environ.get('DATABASE_NAME')\n",
    "\n",
    "client = MongoClient(mongodb_uri)\n",
    "database = client[database_name]"
   ]
  },
  {
   "cell_type": "markdown",
   "metadata": {},
   "source": [
    "#### Connecting to videos collection"
   ]
  },
  {
   "cell_type": "code",
   "execution_count": null,
   "metadata": {},
   "outputs": [],
   "source": [
    "videos = database['modified_videos_xx']     # last updated videos collection"
   ]
  },
  {
   "cell_type": "markdown",
   "metadata": {},
   "source": [
    "#### Updating video duration"
   ]
  },
  {
   "cell_type": "code",
   "execution_count": null,
   "metadata": {},
   "outputs": [],
   "source": [
    "try:\n",
    "    for (key,value) in videos_duration_dict.items():\n",
    "        videos.update_many(\n",
    "        {\"youtube_id\" : key},\n",
    "        {\"$set\": { \"duration\" : value}}\n",
    "        );\n",
    "except Exception as e:\n",
    "    print(exception)"
   ]
  }
 ],
 "metadata": {
  "kernelspec": {
   "display_name": "Python 3",
   "language": "python",
   "name": "python3"
  },
  "language_info": {
   "codemirror_mode": {
    "name": "ipython",
    "version": 3
   },
   "file_extension": ".py",
   "mimetype": "text/x-python",
   "name": "python",
   "nbconvert_exporter": "python",
   "pygments_lexer": "ipython3",
   "version": "3.9.6"
  },
  "orig_nbformat": 4
 },
 "nbformat": 4,
 "nbformat_minor": 2
}
