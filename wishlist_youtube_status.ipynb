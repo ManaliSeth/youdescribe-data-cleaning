{
 "cells": [
  {
   "cell_type": "code",
   "execution_count": null,
   "metadata": {},
   "outputs": [],
   "source": [
    "import os\n",
    "from pymongo import MongoClient\n",
    "import pandas as pd\n",
    "import json\n",
    "from googleapiclient.discovery import build"
   ]
  },
  {
   "cell_type": "markdown",
   "metadata": {},
   "source": [
    "#### Importing wishlist csv"
   ]
  },
  {
   "cell_type": "code",
   "execution_count": null,
   "metadata": {},
   "outputs": [],
   "source": [
    "wishlist_df = pd.read_csv('./csvs/modified_wish_list_x.csv')     # last updated videos dataset"
   ]
  },
  {
   "cell_type": "code",
   "execution_count": null,
   "metadata": {},
   "outputs": [],
   "source": [
    "wishlist_df.info()"
   ]
  },
  {
   "cell_type": "markdown",
   "metadata": {},
   "source": [
    "#### Getting list of youtube_id for all wishlist videos in live dataset "
   ]
  },
  {
   "cell_type": "code",
   "execution_count": null,
   "metadata": {},
   "outputs": [],
   "source": [
    "wishlist_YTids_list = list(wishlist_df['youtube_id'])"
   ]
  },
  {
   "cell_type": "markdown",
   "metadata": {},
   "source": [
    "### YouTube API key"
   ]
  },
  {
   "cell_type": "code",
   "execution_count": null,
   "metadata": {},
   "outputs": [],
   "source": [
    "developer_key = os.environ.get('DEVELOPER_KEY')\n",
    "\n",
    "youtube = build('youtube', 'v3', developerKey=developer_key) # project-0127 Data Cleaning\n"
   ]
  },
  {
   "cell_type": "markdown",
   "metadata": {},
   "source": [
    "##### Fetching youtube status of wishlist videos"
   ]
  },
  {
   "cell_type": "code",
   "execution_count": null,
   "metadata": {},
   "outputs": [],
   "source": [
    "part_string = ['status', 'contentDetails']\n",
    "videos_youtube_id = wishlist_YTids_list"
   ]
  },
  {
   "cell_type": "code",
   "execution_count": null,
   "metadata": {},
   "outputs": [],
   "source": [
    "# Considering wishlist videos youtube status available when\n",
    "#     - embeddable = True\n",
    "#     - privacy status = public / unlisted\n",
    "#     - upload status = processed / uploaded\n",
    "\n",
    "wishlist_youtube_status_dict = {}\n",
    "for idx in range(0,len(videos_youtube_id)):\n",
    "\n",
    "    try:\n",
    "        request = youtube.videos().list(\n",
    "            part=part_string,\n",
    "            id=videos_youtube_id[idx],\n",
    "        )\n",
    "        response = request.execute()\n",
    "\n",
    "        if response['items']!=[] and all(key in response['items'][0]['status'] for key in ('embeddable', 'privacyStatus', 'uploadStatus')):\n",
    "            if response['items'][0]['status']['embeddable'] == True and (response['items'][0]['status']['privacyStatus'] == 'public' or response['items'][0]['status']['privacyStatus'] == 'unlisted') and (response['items'][0]['status']['uploadStatus'] == 'processed' or response['items'][0]['status']['uploadStatus'] == 'uploaded'):\n",
    "\n",
    "                wishlist_youtube_status = 'available'\n",
    "        else:\n",
    "            wishlist_youtube_status = 'unavailable'\n",
    "\n",
    "    except Exception as e:\n",
    "        print(\"An exception occured\")\n",
    "        print(e)\n",
    "        wishlist_youtube_status = ''\n",
    "\n",
    "    wishlist_youtube_status_dict[videos_youtube_id[idx]] = wishlist_youtube_status   \n",
    "        "
   ]
  },
  {
   "cell_type": "code",
   "execution_count": null,
   "metadata": {},
   "outputs": [],
   "source": [
    "youtube_status = open('./youtube_api/wishlist_youtube_status.txt',\"a\")\n",
    "youtube_status.write(json.dumps(wishlist_youtube_status_dict))\n",
    "youtube_status.close()"
   ]
  },
  {
   "cell_type": "markdown",
   "metadata": {},
   "source": [
    "### Connection to MongoDB"
   ]
  },
  {
   "cell_type": "code",
   "execution_count": null,
   "metadata": {},
   "outputs": [],
   "source": [
    "mongodb_uri = os.environ.get('MONGODB_URI')\n",
    "database_name = os.environ.get('DATABASE_NAME')\n",
    "\n",
    "client = MongoClient(mongodb_uri)\n",
    "database = client[database_name]"
   ]
  },
  {
   "cell_type": "markdown",
   "metadata": {},
   "source": [
    "#### Connecting to wishlist collection"
   ]
  },
  {
   "cell_type": "code",
   "execution_count": null,
   "metadata": {},
   "outputs": [],
   "source": [
    "wishlist = database['modified_wishlist_x']  # updated wishlist collection"
   ]
  },
  {
   "cell_type": "markdown",
   "metadata": {},
   "source": [
    "##### Updating youtube_status for wishlist videos"
   ]
  },
  {
   "cell_type": "code",
   "execution_count": null,
   "metadata": {},
   "outputs": [],
   "source": [
    "try:\n",
    "    for (key,value) in wishlist_youtube_status_dict.items():\n",
    "        wishlist.update_many(\n",
    "        {\"youtube_id\" : key},\n",
    "        {\"$set\": { \"youtube_status\" : value}}\n",
    "        );\n",
    "except Exception as e:\n",
    "    print(e)"
   ]
  },
  {
   "cell_type": "markdown",
   "metadata": {},
   "source": [
    "#### Drop wishlist videos with youtube status as unavailable"
   ]
  },
  {
   "cell_type": "code",
   "execution_count": null,
   "metadata": {},
   "outputs": [],
   "source": [
    "pipeline = [\n",
    "    {\n",
    "        '$match': {\n",
    "            'youtube_status': 'available'\n",
    "        }\n",
    "    }, {\n",
    "        '$out': 'modified_wish_list_xx'\n",
    "    }\n",
    "]"
   ]
  },
  {
   "cell_type": "code",
   "execution_count": null,
   "metadata": {},
   "outputs": [],
   "source": [
    "try: \n",
    "    wishlist.aggregate(pipeline)\n",
    "except Exception as e:\n",
    "    print(e)"
   ]
  }
 ],
 "metadata": {
  "kernelspec": {
   "display_name": "Python 3",
   "language": "python",
   "name": "python3"
  },
  "language_info": {
   "codemirror_mode": {
    "name": "ipython",
    "version": 3
   },
   "file_extension": ".py",
   "mimetype": "text/x-python",
   "name": "python",
   "nbconvert_exporter": "python",
   "pygments_lexer": "ipython3",
   "version": "3.9.6"
  },
  "orig_nbformat": 4
 },
 "nbformat": 4,
 "nbformat_minor": 2
}
