{
 "cells": [
  {
   "cell_type": "code",
   "execution_count": 2,
   "metadata": {},
   "outputs": [],
   "source": [
    "import os\n",
    "import pandas as pd\n",
    "from pymongo import MongoClient\n",
    "from bson.objectid import ObjectId\n",
    "import json\n",
    "import audio_metadata"
   ]
  },
  {
   "cell_type": "markdown",
   "metadata": {},
   "source": [
    "##### Download all audio clips first!!!!"
   ]
  },
  {
   "cell_type": "markdown",
   "metadata": {},
   "source": [
    "#### Importing dataset"
   ]
  },
  {
   "cell_type": "code",
   "execution_count": null,
   "metadata": {},
   "outputs": [],
   "source": [
    "audio_clips_df = pd.read_csv('./csvs/modified_audio_clips_xx.csv', low_memory=False)      # last updated audio clips collection"
   ]
  },
  {
   "cell_type": "code",
   "execution_count": null,
   "metadata": {},
   "outputs": [],
   "source": [
    "audio_clips_df.info()"
   ]
  },
  {
   "cell_type": "markdown",
   "metadata": {},
   "source": [
    "#### Retrieve audio metadata - file_size_bytes"
   ]
  },
  {
   "cell_type": "code",
   "execution_count": null,
   "metadata": {},
   "outputs": [],
   "source": [
    "def clip_file_size(audio_file):\n",
    "    wave_file = audio_metadata.load(audio_file)\n",
    "    filesize = wave_file['filesize']\n",
    "    return filesize"
   ]
  },
  {
   "cell_type": "code",
   "execution_count": null,
   "metadata": {},
   "outputs": [],
   "source": [
    "# Download all audio clips to find audio metadata\n",
    "audio_clips_file_size_dict = {}\n",
    "filepath = os.environ.get('AUDIO_CLIPS_DIRECTORY_PATH')\n",
    "\n",
    "for index, audio_clip in audio_clips_df.iloc[:].iterrows():\n",
    "    print(\"index: \", index)\n",
    "    \n",
    "    if audio_clip['file_name'] == 'extended.mp3':\n",
    "        continue\n",
    "    \n",
    "    if audio_clip['file_name']:\n",
    "        # directory path where all audio clips are stored\n",
    "        audio_file = filepath + audio_clip['file_name']\n",
    "        filesize = clip_file_size(audio_file)\n",
    "        audio_clips_file_size_dict[audio_clip['_id']] = filesize\n",
    "        \n",
    "    else:\n",
    "        filesize = None\n",
    "        audio_clips_file_size_dict[audio_clip['_id']] = filesize"
   ]
  },
  {
   "cell_type": "code",
   "execution_count": null,
   "metadata": {},
   "outputs": [],
   "source": [
    "file_size_bytes = open('./youtube_api/audio_clips_file_size_bytes.txt',\"a\")\n",
    "file_size_bytes.write(json.dumps(audio_clips_file_size_dict))\n",
    "file_size_bytes.close()"
   ]
  },
  {
   "cell_type": "markdown",
   "metadata": {},
   "source": [
    "### Connection to MongoDB"
   ]
  },
  {
   "cell_type": "code",
   "execution_count": null,
   "metadata": {},
   "outputs": [],
   "source": [
    "mongodb_uri = os.environ.get('MONGODB_URI')\n",
    "database_name = os.environ.get('DATABASE_NAME')\n",
    "\n",
    "client = MongoClient(mongodb_uri)\n",
    "database = client[database_name]"
   ]
  },
  {
   "cell_type": "markdown",
   "metadata": {},
   "source": [
    "#### Connecting to audio clips collection"
   ]
  },
  {
   "cell_type": "code",
   "execution_count": null,
   "metadata": {},
   "outputs": [],
   "source": [
    "audio_clips = database['modified_audio_clips_xx']   # last updated audio clips collection"
   ]
  },
  {
   "cell_type": "markdown",
   "metadata": {},
   "source": [
    "#### Update audio clips duration"
   ]
  },
  {
   "cell_type": "code",
   "execution_count": null,
   "metadata": {},
   "outputs": [],
   "source": [
    "try:\n",
    "    for (key,value) in audio_clips_file_size_dict.items():\n",
    "        audio_clips.find_one_and_update(\n",
    "        {\"_id\" : ObjectId(key)},\n",
    "        {\"$set\": { \"file_size_bytes\" : value}}\n",
    "    );\n",
    "except Exception as e:\n",
    "    print(\"Exception: \", e)"
   ]
  }
 ],
 "metadata": {
  "kernelspec": {
   "display_name": "Python 3",
   "language": "python",
   "name": "python3"
  },
  "language_info": {
   "codemirror_mode": {
    "name": "ipython",
    "version": 3
   },
   "file_extension": ".py",
   "mimetype": "text/x-python",
   "name": "python",
   "nbconvert_exporter": "python",
   "pygments_lexer": "ipython3",
   "version": "3.9.6"
  },
  "orig_nbformat": 4
 },
 "nbformat": 4,
 "nbformat_minor": 2
}
