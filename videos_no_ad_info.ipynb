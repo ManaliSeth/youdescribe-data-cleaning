{
 "cells": [
  {
   "cell_type": "code",
   "execution_count": 1,
   "metadata": {},
   "outputs": [],
   "source": [
    "import os\n",
    "from pymongo import MongoClient"
   ]
  },
  {
   "cell_type": "markdown",
   "metadata": {},
   "source": [
    "### Connection to MongoDB"
   ]
  },
  {
   "cell_type": "code",
   "execution_count": null,
   "metadata": {},
   "outputs": [],
   "source": [
    "mongodb_uri = os.environ.get('MONGODB_URI')\n",
    "database_name = os.environ.get('DATABASE_NAME')\n",
    "\n",
    "client = MongoClient(mongodb_uri)\n",
    "database = client[database_name]"
   ]
  },
  {
   "cell_type": "markdown",
   "metadata": {},
   "source": [
    "#### Connecting to videos collection"
   ]
  },
  {
   "cell_type": "code",
   "execution_count": null,
   "metadata": {},
   "outputs": [],
   "source": [
    "videos = database['videos']"
   ]
  },
  {
   "cell_type": "markdown",
   "metadata": {},
   "source": [
    "#### Drop videos with no audio description info in audio descriptions collection"
   ]
  },
  {
   "cell_type": "code",
   "execution_count": null,
   "metadata": {},
   "outputs": [],
   "source": [
    "pipeline = [\n",
    "    {\n",
    "        '$lookup': {\n",
    "            'from': 'modified_audio_descriptions',     # audio_descriptions, if modified_audio_descriptions coll. not created\n",
    "            'localField': 'audio_descriptions', \n",
    "            'foreignField': '_id', \n",
    "            'as': 'videos_ad'\n",
    "        }\n",
    "    }, {\n",
    "        '$addFields': {\n",
    "            'audio_descriptions': '$videos_ad._id'\n",
    "        }\n",
    "    }, {\n",
    "        '$project': {\n",
    "            'videos_ad': 0\n",
    "        }\n",
    "    }, {\n",
    "        '$out': 'modified_videos'   # New collection to avoid any changes/issues in current videos collection\n",
    "    }\n",
    "]\n",
    "\n",
    "videos.aggregate(pipeline)"
   ]
  }
 ],
 "metadata": {
  "kernelspec": {
   "display_name": "Python 3",
   "language": "python",
   "name": "python3"
  },
  "language_info": {
   "codemirror_mode": {
    "name": "ipython",
    "version": 3
   },
   "file_extension": ".py",
   "mimetype": "text/x-python",
   "name": "python",
   "nbconvert_exporter": "python",
   "pygments_lexer": "ipython3",
   "version": "3.9.6"
  },
  "orig_nbformat": 4
 },
 "nbformat": 4,
 "nbformat_minor": 2
}
